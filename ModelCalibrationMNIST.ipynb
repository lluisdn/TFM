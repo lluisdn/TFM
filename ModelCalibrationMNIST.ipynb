{
  "nbformat": 4,
  "nbformat_minor": 0,
  "metadata": {
    "colab": {
      "provenance": [],
      "authorship_tag": "ABX9TyP6Ot56rCoBUCT0CoZN9PSf",
      "include_colab_link": true
    },
    "kernelspec": {
      "name": "python3",
      "display_name": "Python 3"
    },
    "language_info": {
      "name": "python"
    }
  },
  "cells": [
    {
      "cell_type": "markdown",
      "metadata": {
        "id": "view-in-github",
        "colab_type": "text"
      },
      "source": [
        "<a href=\"https://colab.research.google.com/github/lluisdn/TFM/blob/main/ModelCalibrationMNIST.ipynb\" target=\"_parent\"><img src=\"https://colab.research.google.com/assets/colab-badge.svg\" alt=\"Open In Colab\"/></a>"
      ]
    },
    {
      "cell_type": "markdown",
      "source": [
        "#**General libraries**"
      ],
      "metadata": {
        "id": "aYYtpzMZr22L"
      }
    },
    {
      "cell_type": "code",
      "execution_count": null,
      "metadata": {
        "id": "elQvE7R1cS_8"
      },
      "outputs": [],
      "source": [
        "# Libraries\n",
        "import numpy as np\n",
        "import matplotlib.pyplot as plt"
      ]
    },
    {
      "cell_type": "markdown",
      "source": [
        "#**TensorFlow**"
      ],
      "metadata": {
        "id": "KsGI_q09sBkY"
      }
    },
    {
      "cell_type": "code",
      "source": [
        "# TensorFlow\n",
        "import tensorflow as tf\n",
        "from tensorflow import keras\n",
        "from keras.layers import Input, Dense, Flatten, Conv2D, MaxPooling2D\n",
        "from keras.datasets import mnist\n",
        "from keras.models import Model\n",
        "\n",
        "#Sklearn\n",
        "from sklearn.model_selection import train_test_split"
      ],
      "metadata": {
        "id": "p3e9J9EssBuj"
      },
      "execution_count": null,
      "outputs": []
    },
    {
      "cell_type": "code",
      "source": [
        "#MNIST dataset\n",
        "tf.keras.datasets.mnist.load_data(path=\"mnist.npz\")\n",
        "(x_train, y_train), (x_test, y_test)  = keras.datasets.mnist.load_data()\n",
        "x_train, x_val, y_train, y_val = train_test_split(x_train, y_train, test_size=0.33)\n",
        "\n",
        "#Pre-processing\n",
        "x_train = x_train / 255.0\n",
        "x_test = x_test / 255.0\n",
        "x_val = x_val / 255.0"
      ],
      "metadata": {
        "id": "Oyi4wUlxeSH5"
      },
      "execution_count": null,
      "outputs": []
    },
    {
      "cell_type": "code",
      "source": [
        "#x_train / x_test / x_val reshape\n",
        "x_train_2 = x_train.reshape(x_train.shape[0], 28, 28, 1)\n",
        "x_test_2 = x_test.reshape(x_test.shape[0], 28, 28, 1)\n",
        "x_val_2 = x_val.reshape(x_val.shape[0], 28, 28, 1)\n",
        "\n",
        "\n",
        "#Hot encoded array:\n",
        "def target_matrix(target):\n",
        "    target_matrix=np.zeros((len(target),10))\n",
        "    target_matrix[np.arange(target.size),target ] = 1\n",
        "    return target_matrix\n",
        "\n",
        "#New arrays\n",
        "y_train_2 = target_matrix(y_train)\n",
        "y_test_2 = target_matrix(y_test)\n",
        "y_val_2 = target_matrix(y_val)"
      ],
      "metadata": {
        "id": "iJPwVuDBhmQw"
      },
      "execution_count": null,
      "outputs": []
    },
    {
      "cell_type": "markdown",
      "source": [
        "#**Model**"
      ],
      "metadata": {
        "id": "OSfBGRb1sTsB"
      }
    },
    {
      "cell_type": "markdown",
      "source": [
        "#*LeNet (CNN)*"
      ],
      "metadata": {
        "id": "y1TWKnf5sHt1"
      }
    },
    {
      "cell_type": "code",
      "source": [
        "# Input layer\n",
        "input_data = Input(shape=(28, 28, 1))\n",
        "\n",
        "# Convolutional layer\n",
        "layer_1 = Conv2D(6, kernel_size=(5, 5), activation='sigmoid', padding='same')(input_data) #same /valid\n",
        "\n",
        "# Max Pooling\n",
        "layer_2 = MaxPooling2D(pool_size=(2, 2), strides=(2, 2))(layer_1)\n",
        "\n",
        "# Convolutional layer\n",
        "layer_3 = Conv2D(16, kernel_size=(5, 5), activation='sigmoid')(layer_2)\n",
        "\n",
        "# Max Pooling\n",
        "layer_4 = MaxPooling2D(pool_size=(2, 2), strides=(2, 2))(layer_3)\n",
        "\n",
        "# Flatten the data\n",
        "layer_5 = Flatten()(layer_4)\n",
        "\n",
        "# Fully Connected Layers\n",
        "layer_6 = Dense(120, activation='sigmoid')(layer_5)\n",
        "layer_7 = Dense(84, activation='sigmoid')(layer_6)\n",
        "output = Dense(10, activation='softmax')(layer_7)\n",
        "\n",
        "# Compile the model\n",
        "lenet = Model(inputs=input_data, outputs=output)\n",
        "lenet.compile(optimizer='adam', loss='categorical_crossentropy', metrics=['accuracy'])\n",
        "\n",
        "#Plot the model\n",
        "lenet.summary()\n",
        "\n",
        ""
      ],
      "metadata": {
        "colab": {
          "base_uri": "https://localhost:8080/"
        },
        "id": "29qV2XnwelEV",
        "outputId": "3f21b5d1-6f88-4c27-cc63-feb40b3a840c"
      },
      "execution_count": null,
      "outputs": [
        {
          "output_type": "stream",
          "name": "stdout",
          "text": [
            "Model: \"model_1\"\n",
            "_________________________________________________________________\n",
            " Layer (type)                Output Shape              Param #   \n",
            "=================================================================\n",
            " input_2 (InputLayer)        [(None, 28, 28, 1)]       0         \n",
            "                                                                 \n",
            " conv2d_2 (Conv2D)           (None, 28, 28, 6)         156       \n",
            "                                                                 \n",
            " max_pooling2d_2 (MaxPooling  (None, 14, 14, 6)        0         \n",
            " 2D)                                                             \n",
            "                                                                 \n",
            " conv2d_3 (Conv2D)           (None, 10, 10, 16)        2416      \n",
            "                                                                 \n",
            " max_pooling2d_3 (MaxPooling  (None, 5, 5, 16)         0         \n",
            " 2D)                                                             \n",
            "                                                                 \n",
            " flatten_1 (Flatten)         (None, 400)               0         \n",
            "                                                                 \n",
            " dense_3 (Dense)             (None, 120)               48120     \n",
            "                                                                 \n",
            " dense_4 (Dense)             (None, 84)                10164     \n",
            "                                                                 \n",
            " dense_5 (Dense)             (None, 10)                850       \n",
            "                                                                 \n",
            "=================================================================\n",
            "Total params: 61,706\n",
            "Trainable params: 61,706\n",
            "Non-trainable params: 0\n",
            "_________________________________________________________________\n"
          ]
        }
      ]
    },
    {
      "cell_type": "code",
      "source": [
        "#Fitting\n",
        "lenet.fit(x_train_2, y_train_2,\n",
        "                epochs=5,\n",
        "                shuffle=True,\n",
        "                )"
      ],
      "metadata": {
        "colab": {
          "base_uri": "https://localhost:8080/"
        },
        "id": "agD7pk7arNv1",
        "outputId": "19a11b3b-09cb-4ade-dfb6-19f13249e8fc"
      },
      "execution_count": null,
      "outputs": [
        {
          "output_type": "stream",
          "name": "stdout",
          "text": [
            "Epoch 1/5\n",
            "1257/1257 [==============================] - 28s 22ms/step - loss: 0.0631 - accuracy: 0.9803\n",
            "Epoch 2/5\n",
            "1257/1257 [==============================] - 28s 23ms/step - loss: 0.0529 - accuracy: 0.9842\n",
            "Epoch 3/5\n",
            "1257/1257 [==============================] - 29s 23ms/step - loss: 0.0457 - accuracy: 0.9860\n",
            "Epoch 4/5\n",
            "1257/1257 [==============================] - 31s 25ms/step - loss: 0.0394 - accuracy: 0.9882\n",
            "Epoch 5/5\n",
            "1257/1257 [==============================] - 28s 22ms/step - loss: 0.0343 - accuracy: 0.9896\n"
          ]
        },
        {
          "output_type": "execute_result",
          "data": {
            "text/plain": [
              "<keras.callbacks.History at 0x7fbd29bbffa0>"
            ]
          },
          "metadata": {},
          "execution_count": 42
        }
      ]
    },
    {
      "cell_type": "code",
      "source": [
        "# Probabilities\n",
        "probs_lenet_test=lenet.predict(x_test_2)\n",
        "probs_lenet_val=lenet.predict(x_val_2)"
      ],
      "metadata": {
        "colab": {
          "base_uri": "https://localhost:8080/"
        },
        "id": "lVFO2mbHteXB",
        "outputId": "9b14706e-79ed-4010-9896-aeaee9d02613"
      },
      "execution_count": null,
      "outputs": [
        {
          "output_type": "stream",
          "name": "stdout",
          "text": [
            "313/313 [==============================] - 4s 12ms/step\n",
            "619/619 [==============================] - 7s 11ms/step\n"
          ]
        }
      ]
    },
    {
      "cell_type": "markdown",
      "source": [
        "#*Standard model (dense, 784-100-10)*\n"
      ],
      "metadata": {
        "id": "VrSHr5DkwhfF"
      }
    },
    {
      "cell_type": "code",
      "source": [
        "# Input layer\n",
        "input_data_basic = Input(shape=(28, 28, 1))\n",
        "\n",
        "#Flatten layer\n",
        "layer_0 = Flatten()(input_data_basic)\n",
        "\n",
        "#First layer\n",
        "layer_1 = Dense(100, activation='relu')(layer_0)\n",
        "\n",
        "#Second layer\n",
        "layer_2 = Dense(100, activation='relu')(layer_1)\n",
        "\n",
        "#Output layer\n",
        "output = Dense(10, activation='softmax')(layer_2)\n",
        "\n",
        "# Compile the model\n",
        "basic = Model(inputs=input_data_basic, outputs=output)\n",
        "basic.compile(optimizer='adam', loss='categorical_crossentropy', metrics=['accuracy'])\n",
        "\n",
        "#Plot the model\n",
        "basic.summary()\n"
      ],
      "metadata": {
        "colab": {
          "base_uri": "https://localhost:8080/"
        },
        "id": "900SDyf96tkY",
        "outputId": "94d7da16-fb1d-4518-d74f-cc1bb029e1a1"
      },
      "execution_count": null,
      "outputs": [
        {
          "output_type": "stream",
          "name": "stdout",
          "text": [
            "Model: \"model_6\"\n",
            "_________________________________________________________________\n",
            " Layer (type)                Output Shape              Param #   \n",
            "=================================================================\n",
            " input_7 (InputLayer)        [(None, 28, 28, 1)]       0         \n",
            "                                                                 \n",
            " flatten_2 (Flatten)         (None, 784)               0         \n",
            "                                                                 \n",
            " dense_18 (Dense)            (None, 100)               78500     \n",
            "                                                                 \n",
            " dense_19 (Dense)            (None, 100)               10100     \n",
            "                                                                 \n",
            " dense_20 (Dense)            (None, 10)                1010      \n",
            "                                                                 \n",
            "=================================================================\n",
            "Total params: 89,610\n",
            "Trainable params: 89,610\n",
            "Non-trainable params: 0\n",
            "_________________________________________________________________\n"
          ]
        }
      ]
    },
    {
      "cell_type": "code",
      "source": [
        "#Fitting\n",
        "basic.fit(x_train_2, y_train_2,\n",
        "                epochs=5,\n",
        "                shuffle=True,\n",
        "                )"
      ],
      "metadata": {
        "colab": {
          "base_uri": "https://localhost:8080/"
        },
        "id": "eSzNOooa8XLw",
        "outputId": "0609a365-189c-44bf-8351-25f497b14f8c"
      },
      "execution_count": null,
      "outputs": [
        {
          "output_type": "stream",
          "name": "stdout",
          "text": [
            "Epoch 1/5\n",
            "1257/1257 [==============================] - 5s 3ms/step - loss: 0.2922 - accuracy: 0.9155\n",
            "Epoch 2/5\n",
            "1257/1257 [==============================] - 5s 4ms/step - loss: 0.1252 - accuracy: 0.9623\n",
            "Epoch 3/5\n",
            "1257/1257 [==============================] - 5s 4ms/step - loss: 0.0848 - accuracy: 0.9733\n",
            "Epoch 4/5\n",
            "1257/1257 [==============================] - 4s 3ms/step - loss: 0.0627 - accuracy: 0.9800\n",
            "Epoch 5/5\n",
            "1257/1257 [==============================] - 5s 4ms/step - loss: 0.0479 - accuracy: 0.9838\n"
          ]
        },
        {
          "output_type": "execute_result",
          "data": {
            "text/plain": [
              "<keras.callbacks.History at 0x7fbd2b02eca0>"
            ]
          },
          "metadata": {},
          "execution_count": 75
        }
      ]
    },
    {
      "cell_type": "code",
      "source": [
        "# Probabilities\n",
        "probs_basic_test=basic.predict(x_test_2)\n",
        "probs_basic_val=basic.predict(x_val_2)"
      ],
      "metadata": {
        "colab": {
          "base_uri": "https://localhost:8080/"
        },
        "id": "AB2kytM68Xa4",
        "outputId": "395566e5-10c4-4585-ad81-d00e73da16bd"
      },
      "execution_count": null,
      "outputs": [
        {
          "output_type": "stream",
          "name": "stdout",
          "text": [
            "313/313 [==============================] - 1s 2ms/step\n",
            "619/619 [==============================] - 1s 2ms/step\n"
          ]
        }
      ]
    },
    {
      "cell_type": "markdown",
      "source": [
        "#**Calibration function**"
      ],
      "metadata": {
        "id": "0BNHbHERsdns"
      }
    },
    {
      "cell_type": "code",
      "source": [
        "def pre_calibration(probs, labels):\n",
        "  probs_array=[]\n",
        "  labels_array=[]\n",
        "  for i in range(len(probs)):\n",
        "    for j in range(len(probs[0])):\n",
        "      probs_array.append(probs[i][j])\n",
        "      labels_array.append(labels[i][j])   #HOT ENCODED ARRAY!!!!!!!!!!!!!!!\n",
        "  return probs_array, labels_array"
      ],
      "metadata": {
        "id": "c2tt_mLy9OOT"
      },
      "execution_count": null,
      "outputs": []
    },
    {
      "cell_type": "code",
      "source": [
        "def ModelCalibration(Model, y_prob, y_true):\n",
        "  # y_true: true labels, y_prob: predicted probabilities\n",
        "  n_bins = 50  # number of bins\n",
        "  bin_size = 1 / n_bins  # size of each bin\n",
        "\n",
        "  bins = np.linspace(0, 1, n_bins+1)  # define the bin edges\n",
        "  bin_centers = np.linspace(bin_size/2, 1-bin_size/2, n_bins)  # define the bin centers\n",
        "\n",
        "  # Compute the mean predicted probability and the true frequency for each bin\n",
        "  mean_predicted_value = []\n",
        "  fraction_of_positives = []\n",
        "\n",
        "  for bin_start, bin_end in zip(bins[:-1], bins[1:]):\n",
        "      idx = (y_prob >= bin_start) & (y_prob < bin_end)  # indices of the examples in the current bin\n",
        "      result = [y_prob[i] for i in range(len(y_prob)) if idx[i]]\n",
        "      #print(result)\n",
        "      true = [y_true[i] for i in range(len(y_prob)) if idx[i]]\n",
        "      #print(true)\n",
        "      #print()\n",
        "      if np.sum(idx) == 0:  # if there are no examples in the bin, skip it\n",
        "          continue\n",
        "\n",
        "      mean_predicted_value.append(np.mean(result))          # mean predicted probability for the current bin\n",
        "\n",
        "      fraction_of_positives.append(np.sum(true)/np.sum(idx))      #np.sum(y_true[idx]) / np.sum(idx))  # true frequency for the current bin\n",
        "      #print(bin_start, bin_end)\n",
        "      #print(len(true))\n",
        "      #print(np.sum(idx))\n",
        "      #print(fraction_of_positives)\n",
        "\n",
        "\n",
        "  # Plot the reliability diagram\n",
        "  fig, ax = plt.subplots()\n",
        "  ax.plot([0, 1], [0, 1], linestyle='--', color='gray')\n",
        "  ax.plot(mean_predicted_value, fraction_of_positives, \".\")\n",
        "  ax.set_xlabel('Mean predicted value')\n",
        "  ax.set_ylabel('Fraction of positives')\n",
        "  ax.set_title('Calibration Check')\n",
        "  plt.show()\n"
      ],
      "metadata": {
        "id": "UTNmoI6VshJ5"
      },
      "execution_count": null,
      "outputs": []
    },
    {
      "cell_type": "markdown",
      "source": [
        "#*Calibration LeNet*\n"
      ],
      "metadata": {
        "id": "FgwLU-mjv5wb"
      }
    },
    {
      "cell_type": "code",
      "source": [
        "print('Amount of data', len(probs_lenet_val))\n",
        "probs_lenet_array, y_test_array = pre_calibration(probs_lenet_val, y_val_2)\n",
        "ModelCalibration(lenet, probs_lenet_array, y_test_array)\n",
        "\n",
        "print('amount of data', len(probs_lenet_test))\n",
        "probs_lenet_array_test, y_test_array_test = pre_calibration(probs_lenet_test, y_test_2)\n",
        "ModelCalibration(lenet, probs_lenet_array_test, y_test_array_test)"
      ],
      "metadata": {
        "colab": {
          "base_uri": "https://localhost:8080/",
          "height": 609
        },
        "id": "WMGFDNI3t-MR",
        "outputId": "2c7fa732-e8ea-4235-b65a-a59df5997cc3"
      },
      "execution_count": null,
      "outputs": [
        {
          "output_type": "stream",
          "name": "stdout",
          "text": [
            "amount of data 19800\n"
          ]
        },
        {
          "output_type": "display_data",
          "data": {
            "text/plain": [
              "<Figure size 432x288 with 1 Axes>"
            ],
            "image/png": "[encoded data removed]"
          },
          "metadata": {
            "needs_background": "light"
          }
        },
        {
          "output_type": "stream",
          "name": "stdout",
          "text": [
            "amount of data 10000\n"
          ]
        },
        {
          "output_type": "display_data",
          "data": {
            "text/plain": [
              "<Figure size 432x288 with 1 Axes>"
            ],
            "image/png": "[encoded data removed]"
          },
          "metadata": {
            "needs_background": "light"
          }
        }
      ]
    },
    {
      "cell_type": "markdown",
      "source": [
        "#*Calibration Basic*"
      ],
      "metadata": {
        "id": "wsj3sLz_wDpB"
      }
    },
    {
      "cell_type": "code",
      "source": [
        "print('Amount of data', len(probs_basic_val))\n",
        "probs_basic_array, y_test_array = pre_calibration(probs_basic_val, y_val_2)\n",
        "ModelCalibration(basic, probs_basic_array, y_test_array)\n",
        "\n",
        "print('amount of data', len(probs_basic_test))\n",
        "probs_basic_array_test, y_test_array_test = pre_calibration(probs_basic_test, y_test_2)\n",
        "ModelCalibration(basic, probs_basic_array_test, y_test_array_test)"
      ],
      "metadata": {
        "colab": {
          "base_uri": "https://localhost:8080/",
          "height": 609
        },
        "id": "dHJLppcR9HDS",
        "outputId": "539a25b5-fccf-4bb7-caa3-12cb24757af8"
      },
      "execution_count": null,
      "outputs": [
        {
          "output_type": "stream",
          "name": "stdout",
          "text": [
            "Amount of data 19800\n"
          ]
        },
        {
          "output_type": "display_data",
          "data": {
            "text/plain": [
              "<Figure size 432x288 with 1 Axes>"
            ],
            "image/png": "[encoded data removed]"
          },
          "metadata": {
            "needs_background": "light"
          }
        },
        {
          "output_type": "stream",
          "name": "stdout",
          "text": [
            "amount of data 10000\n"
          ]
        },
        {
          "output_type": "display_data",
          "data": {
            "text/plain": [
              "<Figure size 432x288 with 1 Axes>"
            ],
            "image/png": "[encoded data removed]"
          },
          "metadata": {
            "needs_background": "light"
          }
        }
      ]
    },
    {
      "cell_type": "code",
      "source": [
        "print('Difference between the 2 arrays:')\n",
        "print(probs_lenet_array[0:10])\n",
        "print(probs_basic_array[0:10])"
      ],
      "metadata": {
        "colab": {
          "base_uri": "https://localhost:8080/"
        },
        "id": "M55OsQIG-oQy",
        "outputId": "fd4a58d3-c1ae-495e-ee55-fca519b49567"
      },
      "execution_count": null,
      "outputs": [
        {
          "output_type": "stream",
          "name": "stdout",
          "text": [
            "Difference between the 2 arrays:\n",
            "[0.00029808338, 0.0030254168, 0.17609397, 0.0007472071, 0.0070431656, 0.00011206284, 4.1468493e-06, 0.8081844, 0.0006808129, 0.0038107052]\n",
            "[0.13417841, 5.9837977e-05, 0.18522629, 0.0001650745, 6.5373893e-06, 0.003294047, 9.191152e-07, 0.6652848, 0.0007039612, 0.01108031]\n"
          ]
        }
      ]
    }
  ]
}