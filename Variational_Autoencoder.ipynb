{
  "nbformat": 4,
  "nbformat_minor": 0,
  "metadata": {
    "colab": {
      "provenance": [],
      "authorship_tag": "ABX9TyNa4MlSEmAabvIRb35pxIc0",
      "include_colab_link": true
    },
    "kernelspec": {
      "name": "python3",
      "display_name": "Python 3"
    },
    "language_info": {
      "name": "python"
    }
  },
  "cells": [
    {
      "cell_type": "markdown",
      "metadata": {
        "id": "view-in-github",
        "colab_type": "text"
      },
      "source": [
        "<a href=\"https://colab.research.google.com/github/lluisdn/TFM/blob/Additional/Variational_Autoencoder.ipynb\" target=\"_parent\"><img src=\"https://colab.research.google.com/assets/colab-badge.svg\" alt=\"Open In Colab\"/></a>"
      ]
    },
    {
      "cell_type": "markdown",
      "source": [
        "#**Variation autoencoder**"
      ],
      "metadata": {
        "id": "84wNZXFXhz9V"
      }
    },
    {
      "cell_type": "markdown",
      "source": [
        "#*Imports*\n"
      ],
      "metadata": {
        "id": "D0QM0fhn75OB"
      }
    },
    {
      "cell_type": "code",
      "source": [
        "import numpy as np\n",
        "import matplotlib.pyplot as plt\n",
        "from keras.layers import Input, Dense, Lambda\n",
        "from keras.models import Model\n",
        "from keras.datasets import mnist\n",
        "from keras import backend as K\n",
        "from keras import metrics"
      ],
      "metadata": {
        "id": "Dz2by8BS73GS"
      },
      "execution_count": null,
      "outputs": []
    },
    {
      "cell_type": "markdown",
      "source": [
        "#*Data & preprocessing*"
      ],
      "metadata": {
        "id": "hAKN7LEp7-63"
      }
    },
    {
      "cell_type": "code",
      "source": [
        "(x_train, _), (x_test, _) = mnist.load_data()\n",
        "x_train = x_train.astype('float32') / 255.\n",
        "x_test = x_test.astype('float32') / 255.\n",
        "x_train = x_train.reshape((len(x_train), np.prod(x_train.shape[1:])))\n",
        "x_test = x_test.reshape((len(x_test), np.prod(x_test.shape[1:])))"
      ],
      "metadata": {
        "colab": {
          "base_uri": "https://localhost:8080/"
        },
        "id": "jLLZJeVc8EfP",
        "outputId": "21eb3142-1d35-4645-f8df-01b21c2072bf"
      },
      "execution_count": null,
      "outputs": [
        {
          "output_type": "stream",
          "name": "stdout",
          "text": [
            "Downloading data from https://storage.googleapis.com/tensorflow/tf-keras-datasets/mnist.npz\n",
            "11490434/11490434 [==============================] - 1s 0us/step\n"
          ]
        }
      ]
    },
    {
      "cell_type": "code",
      "source": [
        "input_shape = (784, )\n",
        "latent_dim = 2\n",
        "\n",
        "#Encoder\n",
        "inputs = Input(shape=input_shape, name='encoder_input')\n",
        "x = Dense(512, activation='relu')(inputs)\n",
        "x = Dense(256, activation='relu')(x)\n",
        "\n",
        "# Mean and variance layer\n",
        "z_mean = Dense(latent_dim, name='z_mean')(x)\n",
        "z_var = Dense(latent_dim, name='z_var')(x)\n",
        "\n",
        "#Sampling function\n",
        "def sampling(z_mean, z_var):\n",
        "    epsilon = K.random_normal(shape=(K.shape(z_mean)[0], latent_dim), mean=0., stddev=1.)\n",
        "    return z_mean + K.exp(0.5 * z_var) * epsilon\n",
        "\n",
        "# New sample\n",
        "z = sampling(z_mean,z_var)\n",
        "#z = Lambda(sampling, output_shape=(latent_dim,), name='z')([z_mean],[ z_var])\n",
        "\n",
        "# Decoder\n",
        "decoder_inputs = Input(shape=(latent_dim,), name='decoder_input')\n",
        "x = Dense(256, activation='relu')(decoder_inputs)\n",
        "x = Dense(512, activation='relu')(x)\n",
        "outputs = Dense(784, activation='sigmoid')(x)\n",
        "\n",
        "# Encoder, decoder and VAE models\n",
        "encoder = Model(inputs, [z_mean, z_var, z], name='encoder')\n",
        "decoder = Model(decoder_inputs, outputs, name='decoder')\n",
        "outputs = decoder(encoder(inputs)[2])\n",
        "vae = Model(inputs, outputs, name='vae')\n",
        "\n",
        "# Lloss function\n",
        "reconstruction_loss = metrics.binary_crossentropy(inputs, outputs)\n",
        "reconstruction_loss *= 784\n",
        "kl_loss = 1 + z_var - K.square(z_mean) - K.exp(z_var)\n",
        "kl_loss = K.sum(kl_loss, axis=-1)\n",
        "kl_loss *= -0.5\n",
        "vae_loss = K.mean(reconstruction_loss + kl_loss)\n",
        "vae.add_loss(vae_loss)\n",
        "\n",
        "# Compile the model\n",
        "vae.compile(optimizer='adam')\n",
        "\n",
        "#Summary of the encoder\n",
        "encoder.summary()\n",
        "\n",
        "print('--------------------------------------------------------------------------------------------')\n",
        "\n",
        "print('--------------------------------------------------------------------------------------------')\n",
        "\n",
        "print('--------------------------------------------------------------------------------------------')\n",
        "\n",
        "#Summary of the decoder\n",
        "decoder.summary()\n"
      ],
      "metadata": {
        "colab": {
          "base_uri": "https://localhost:8080/"
        },
        "id": "1zFUUTMYh1Hf",
        "outputId": "a842a7dd-888f-4055-debf-611f404ef25a"
      },
      "execution_count": null,
      "outputs": [
        {
          "output_type": "stream",
          "name": "stdout",
          "text": [
            "Model: \"encoder\"\n",
            "__________________________________________________________________________________________________\n",
            " Layer (type)                   Output Shape         Param #     Connected to                     \n",
            "==================================================================================================\n",
            " encoder_input (InputLayer)     [(None, 784)]        0           []                               \n",
            "                                                                                                  \n",
            " dense_30 (Dense)               (None, 512)          401920      ['encoder_input[0][0]']          \n",
            "                                                                                                  \n",
            " dense_31 (Dense)               (None, 256)          131328      ['dense_30[0][0]']               \n",
            "                                                                                                  \n",
            " z_mean (Dense)                 (None, 2)            514         ['dense_31[0][0]']               \n",
            "                                                                                                  \n",
            " z_var (Dense)                  (None, 2)            514         ['dense_31[0][0]']               \n",
            "                                                                                                  \n",
            " tf.compat.v1.shape_4 (TFOpLamb  (2,)                0           ['z_mean[0][0]']                 \n",
            " da)                                                                                              \n",
            "                                                                                                  \n",
            " tf.math.multiply_16 (TFOpLambd  (None, 2)           0           ['z_var[0][0]']                  \n",
            " a)                                                                                               \n",
            "                                                                                                  \n",
            " tf.__operators__.getitem_4 (Sl  ()                  0           ['tf.compat.v1.shape_4[0][0]']   \n",
            " icingOpLambda)                                                                                   \n",
            "                                                                                                  \n",
            " tf.math.exp_8 (TFOpLambda)     (None, 2)            0           ['tf.math.multiply_16[0][0]']    \n",
            "                                                                                                  \n",
            " tf.random.normal_4 (TFOpLambda  (None, 2)           0           ['tf.__operators__.getitem_4[0][0\n",
            " )                                                               ]']                              \n",
            "                                                                                                  \n",
            " tf.math.multiply_17 (TFOpLambd  (None, 2)           0           ['tf.math.exp_8[0][0]',          \n",
            " a)                                                               'tf.random.normal_4[0][0]']     \n",
            "                                                                                                  \n",
            " tf.__operators__.add_12 (TFOpL  (None, 2)           0           ['z_mean[0][0]',                 \n",
            " ambda)                                                           'tf.math.multiply_17[0][0]']    \n",
            "                                                                                                  \n",
            "==================================================================================================\n",
            "Total params: 534,276\n",
            "Trainable params: 534,276\n",
            "Non-trainable params: 0\n",
            "__________________________________________________________________________________________________\n",
            "--------------------------------------------------------------------------------------------\n",
            "--------------------------------------------------------------------------------------------\n",
            "--------------------------------------------------------------------------------------------\n",
            "Model: \"decoder\"\n",
            "_________________________________________________________________\n",
            " Layer (type)                Output Shape              Param #   \n",
            "=================================================================\n",
            " decoder_input (InputLayer)  [(None, 2)]               0         \n",
            "                                                                 \n",
            " dense_32 (Dense)            (None, 256)               768       \n",
            "                                                                 \n",
            " dense_33 (Dense)            (None, 512)               131584    \n",
            "                                                                 \n",
            " dense_34 (Dense)            (None, 784)               402192    \n",
            "                                                                 \n",
            "=================================================================\n",
            "Total params: 534,544\n",
            "Trainable params: 534,544\n",
            "Non-trainable params: 0\n",
            "_________________________________________________________________\n"
          ]
        }
      ]
    },
    {
      "cell_type": "markdown",
      "source": [
        "#*Training*"
      ],
      "metadata": {
        "id": "ohsa2fxKB-xI"
      }
    },
    {
      "cell_type": "code",
      "source": [
        "vae.fit(x_train, epochs=5, batch_size=128, validation_data=(x_test, None))"
      ],
      "metadata": {
        "colab": {
          "base_uri": "https://localhost:8080/"
        },
        "id": "Q145-B1CB_KC",
        "outputId": "c4aab4ce-8086-4367-bcc4-041500a47d52"
      },
      "execution_count": null,
      "outputs": [
        {
          "output_type": "stream",
          "name": "stdout",
          "text": [
            "Epoch 1/5\n",
            "469/469 [==============================] - 16s 31ms/step - loss: 185.8922 - val_loss: 166.2684\n",
            "Epoch 2/5\n",
            "469/469 [==============================] - 15s 31ms/step - loss: 161.5556 - val_loss: 157.9325\n",
            "Epoch 3/5\n",
            "469/469 [==============================] - 14s 30ms/step - loss: 155.9795 - val_loss: 154.1958\n",
            "Epoch 4/5\n",
            "469/469 [==============================] - 15s 33ms/step - loss: 152.9595 - val_loss: 151.8881\n",
            "Epoch 5/5\n",
            "469/469 [==============================] - 14s 30ms/step - loss: 150.9852 - val_loss: 150.4234\n"
          ]
        },
        {
          "output_type": "execute_result",
          "data": {
            "text/plain": [
              "<keras.callbacks.History at 0x7f0cdca28e20>"
            ]
          },
          "metadata": {},
          "execution_count": 18
        }
      ]
    },
    {
      "cell_type": "markdown",
      "source": [
        "#*Predictions*"
      ],
      "metadata": {
        "id": "Vaqsf9r4_aSJ"
      }
    },
    {
      "cell_type": "code",
      "source": [
        "predictions=vae.predict(x_test)"
      ],
      "metadata": {
        "colab": {
          "base_uri": "https://localhost:8080/"
        },
        "id": "srDur3xP_ZGO",
        "outputId": "72baaf4a-30d8-4dc1-a7a3-d69bfd460969"
      },
      "execution_count": null,
      "outputs": [
        {
          "output_type": "stream",
          "name": "stdout",
          "text": [
            "313/313 [==============================] - 1s 4ms/step\n"
          ]
        }
      ]
    },
    {
      "cell_type": "markdown",
      "source": [
        "#*Plot*"
      ],
      "metadata": {
        "id": "DiDrd_onAn5r"
      }
    },
    {
      "cell_type": "code",
      "source": [
        "#Plot of the initial and final pictures:\n",
        "number=4\n",
        "fig, ax = plt.subplots(1, 2, figsize=(12, 4))\n",
        "ax[0].imshow(x_test[number].reshape(28, 28))\n",
        "ax[0].set_title('Input')\n",
        "ax[1].imshow(predictions[number].reshape(28, 28))\n",
        "ax[1].set_title('Output')\n",
        "plt.show()"
      ],
      "metadata": {
        "colab": {
          "base_uri": "https://localhost:8080/",
          "height": 281
        },
        "id": "89hAU7ZUAsnz",
        "outputId": "2b3d8d5b-ee6b-44f5-96de-f3d7123d542b"
      },
      "execution_count": null,
      "outputs": [
        {
          "output_type": "display_data",
          "data": {
            "text/plain": [
              "<Figure size 864x288 with 2 Axes>"
            ],
            "image/png": "[encoded data removed]"
          },
          "metadata": {
            "needs_background": "light"
          }
        }
      ]
    }
  ]
}